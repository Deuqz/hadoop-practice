{
 "cells": [
  {
   "cell_type": "code",
   "execution_count": 4,
   "id": "17c65021-1693-4910-a3a2-aeef273c93e5",
   "metadata": {},
   "outputs": [
    {
     "name": "stdout",
     "output_type": "stream",
     "text": [
      "put: `/data.txt': File exists\n"
     ]
    }
   ],
   "source": [
    "!hadoop fs -put data.txt /"
   ]
  },
  {
   "cell_type": "code",
   "execution_count": 7,
   "id": "1405dd2a-392d-486a-9af1-f391cee2aab3",
   "metadata": {},
   "outputs": [
    {
     "name": "stdout",
     "output_type": "stream",
     "text": [
      "Found 1 items\n",
      "-rw-r--r--   3 root supergroup          8 2023-11-29 07:15 /data.txt\n"
     ]
    }
   ],
   "source": [
    "!hadoop fs -ls /"
   ]
  },
  {
   "cell_type": "code",
   "execution_count": 8,
   "id": "11d5f787-fbfc-405b-ab2a-34521a4ef4a8",
   "metadata": {},
   "outputs": [
    {
     "name": "stdout",
     "output_type": "stream",
     "text": [
      "abc\n",
      "de\n",
      "f"
     ]
    }
   ],
   "source": [
    "!hadoop fs -cat /data.txt"
   ]
  },
  {
   "cell_type": "code",
   "execution_count": 1,
   "id": "8b7b1149-aa47-4f59-baeb-bccb033a7b70",
   "metadata": {},
   "outputs": [
    {
     "name": "stdout",
     "output_type": "stream",
     "text": [
      "Number of Maps  = 15\n",
      "Samples per Map = 1800\n",
      "Wrote input for Map #0\n",
      "Wrote input for Map #1\n",
      "Wrote input for Map #2\n",
      "Wrote input for Map #3\n",
      "Wrote input for Map #4\n",
      "Wrote input for Map #5\n",
      "Wrote input for Map #6\n",
      "Wrote input for Map #7\n",
      "Wrote input for Map #8\n",
      "Wrote input for Map #9\n",
      "Wrote input for Map #10\n",
      "Wrote input for Map #11\n",
      "Wrote input for Map #12\n",
      "Wrote input for Map #13\n",
      "Wrote input for Map #14\n",
      "Starting Job\n",
      "2023-11-29 20:53:54 INFO  DefaultNoHARMFailoverProxyProvider:64 - Connecting to ResourceManager at resourcemanager/172.18.0.6:8032\n",
      "2023-11-29 20:53:54 INFO  JobResourceUploader:907 - Disabling Erasure Coding for path: /tmp/hadoop-yarn/staging/root/.staging/job_1701280239514_0001\n",
      "2023-11-29 20:53:54 INFO  FileInputFormat:300 - Total input files to process : 15\n",
      "2023-11-29 20:53:54 INFO  JobSubmitter:202 - number of splits:15\n",
      "2023-11-29 20:53:55 INFO  JobSubmitter:298 - Submitting tokens for job: job_1701280239514_0001\n",
      "2023-11-29 20:53:55 INFO  JobSubmitter:299 - Executing with tokens: []\n",
      "2023-11-29 20:53:55 INFO  Configuration:2854 - resource-types.xml not found\n",
      "2023-11-29 20:53:55 INFO  ResourceUtils:476 - Unable to find 'resource-types.xml'.\n",
      "2023-11-29 20:53:55 INFO  YarnClientImpl:338 - Submitted application application_1701280239514_0001\n",
      "2023-11-29 20:53:55 INFO  Job:1682 - The url to track the job: http://resourcemanager:8088/proxy/application_1701280239514_0001/\n",
      "2023-11-29 20:53:55 INFO  Job:1727 - Running job: job_1701280239514_0001\n",
      "2023-11-29 20:54:03 INFO  Job:1748 - Job job_1701280239514_0001 running in uber mode : false\n",
      "2023-11-29 20:54:03 INFO  Job:1755 -  map 0% reduce 0%\n",
      "2023-11-29 20:54:09 INFO  Job:1755 -  map 13% reduce 0%\n",
      "2023-11-29 20:54:10 INFO  Job:1755 -  map 20% reduce 0%\n",
      "2023-11-29 20:54:11 INFO  Job:1755 -  map 27% reduce 0%\n",
      "2023-11-29 20:54:12 INFO  Job:1755 -  map 33% reduce 0%\n",
      "2023-11-29 20:54:13 INFO  Job:1755 -  map 40% reduce 0%\n",
      "2023-11-29 20:54:14 INFO  Job:1755 -  map 53% reduce 0%\n",
      "2023-11-29 20:54:15 INFO  Job:1755 -  map 60% reduce 0%\n",
      "2023-11-29 20:54:17 INFO  Job:1755 -  map 67% reduce 0%\n",
      "2023-11-29 20:54:18 INFO  Job:1755 -  map 73% reduce 0%\n",
      "2023-11-29 20:54:19 INFO  Job:1755 -  map 80% reduce 0%\n",
      "2023-11-29 20:54:20 INFO  Job:1755 -  map 87% reduce 0%\n",
      "2023-11-29 20:54:21 INFO  Job:1755 -  map 93% reduce 0%\n",
      "2023-11-29 20:54:22 INFO  Job:1755 -  map 100% reduce 100%\n",
      "2023-11-29 20:54:22 INFO  Job:1766 - Job job_1701280239514_0001 completed successfully\n",
      "2023-11-29 20:54:22 INFO  Job:1773 - Counters: 54\n",
      "\tFile System Counters\n",
      "\t\tFILE: Number of bytes read=336\n",
      "\t\tFILE: Number of bytes written=4461042\n",
      "\t\tFILE: Number of read operations=0\n",
      "\t\tFILE: Number of large read operations=0\n",
      "\t\tFILE: Number of write operations=0\n",
      "\t\tHDFS: Number of bytes read=3875\n",
      "\t\tHDFS: Number of bytes written=215\n",
      "\t\tHDFS: Number of read operations=65\n",
      "\t\tHDFS: Number of large read operations=0\n",
      "\t\tHDFS: Number of write operations=3\n",
      "\t\tHDFS: Number of bytes read erasure-coded=0\n",
      "\tJob Counters \n",
      "\t\tLaunched map tasks=15\n",
      "\t\tLaunched reduce tasks=1\n",
      "\t\tRack-local map tasks=15\n",
      "\t\tTotal time spent by all maps in occupied slots (ms)=72286\n",
      "\t\tTotal time spent by all reduces in occupied slots (ms)=16898\n",
      "\t\tTotal time spent by all map tasks (ms)=36143\n",
      "\t\tTotal time spent by all reduce tasks (ms)=8449\n",
      "\t\tTotal vcore-milliseconds taken by all map tasks=36143\n",
      "\t\tTotal vcore-milliseconds taken by all reduce tasks=8449\n",
      "\t\tTotal megabyte-milliseconds taken by all map tasks=37010432\n",
      "\t\tTotal megabyte-milliseconds taken by all reduce tasks=8651776\n",
      "\tMap-Reduce Framework\n",
      "\t\tMap input records=15\n",
      "\t\tMap output records=30\n",
      "\t\tMap output bytes=270\n",
      "\t\tMap output materialized bytes=420\n",
      "\t\tInput split bytes=2105\n",
      "\t\tCombine input records=0\n",
      "\t\tCombine output records=0\n",
      "\t\tReduce input groups=2\n",
      "\t\tReduce shuffle bytes=420\n",
      "\t\tReduce input records=30\n",
      "\t\tReduce output records=0\n",
      "\t\tSpilled Records=60\n",
      "\t\tShuffled Maps =15\n",
      "\t\tFailed Shuffles=0\n",
      "\t\tMerged Map outputs=15\n",
      "\t\tGC time elapsed (ms)=606\n",
      "\t\tCPU time spent (ms)=6830\n",
      "\t\tPhysical memory (bytes) snapshot=4804427776\n",
      "\t\tVirtual memory (bytes) snapshot=41456193536\n",
      "\t\tTotal committed heap usage (bytes)=4915724288\n",
      "\t\tPeak Map Physical memory (bytes)=310837248\n",
      "\t\tPeak Map Virtual memory (bytes)=2592681984\n",
      "\t\tPeak Reduce Physical memory (bytes)=225849344\n",
      "\t\tPeak Reduce Virtual memory (bytes)=2599960576\n",
      "\tShuffle Errors\n",
      "\t\tBAD_ID=0\n",
      "\t\tCONNECTION=0\n",
      "\t\tIO_ERROR=0\n",
      "\t\tWRONG_LENGTH=0\n",
      "\t\tWRONG_MAP=0\n",
      "\t\tWRONG_REDUCE=0\n",
      "\tFile Input Format Counters \n",
      "\t\tBytes Read=1770\n",
      "\tFile Output Format Counters \n",
      "\t\tBytes Written=97\n",
      "Job Finished in 27.91 seconds\n",
      "Estimated value of Pi is 3.14162962962962962963\n"
     ]
    }
   ],
   "source": [
    "!hadoop jar /opt/hadoop/share/hadoop/mapreduce/hadoop-mapreduce-examples-3.3.6.jar pi 15 1800"
   ]
  },
  {
   "cell_type": "code",
   "execution_count": null,
   "id": "c1bd60a6-b975-49d7-b726-e6d9b0a4ba66",
   "metadata": {},
   "outputs": [],
   "source": []
  }
 ],
 "metadata": {
  "kernelspec": {
   "display_name": "Python 3 (ipykernel)",
   "language": "python",
   "name": "python3"
  },
  "language_info": {
   "codemirror_mode": {
    "name": "ipython",
    "version": 3
   },
   "file_extension": ".py",
   "mimetype": "text/x-python",
   "name": "python",
   "nbconvert_exporter": "python",
   "pygments_lexer": "ipython3",
   "version": "3.10.12"
  }
 },
 "nbformat": 4,
 "nbformat_minor": 5
}
